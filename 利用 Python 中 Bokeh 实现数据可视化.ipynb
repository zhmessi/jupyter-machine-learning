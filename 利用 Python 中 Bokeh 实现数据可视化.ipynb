{
 "cells": [
  {
   "cell_type": "code",
   "execution_count": null,
   "metadata": {},
   "outputs": [],
   "source": [
    "# https://juejin.im/post/5c34a9dee51d4551d044efce?utm_source=gold_browser_extension"
   ]
  },
  {
   "cell_type": "code",
   "execution_count": null,
   "metadata": {},
   "outputs": [],
   "source": [
    "def make_dataset(carrier_list, range_start = -60, range_end = 120, bin_width = 5):\n",
    "    \n",
    "    #为了确保起始点小于重点而进行检查\n",
    "    assert range_start < range_end, \"Start must be less than end!\"\n",
    "    \n",
    "    by_carrier = pd.DataFrame(columns=[u'proportion', u'left', u'right', u'f_proportion', u'f_interval', u'name', u'color'])\n",
    "    range_extent = range_end - range_start\n",
    "    \n",
    "    #遍历所有运营商\n",
    "    for i, carrier_name in enumerate(carrier_list):\n",
    "        \n",
    "        # 运营商子集\n",
    "        subset = flights[flights[u'name'] == carrier_name]\n",
    "        \n",
    "        #创建具有指定容器和范围的柱状图\n",
    "        arr_hist, edges = np.histogram(subset[u'arr_delay'], bins= int(range_extent / bin_width), range=[range_start, range_end])\n",
    "        \n",
    "        #将基数除以总数,  得到一个比例, 并创建 df\n",
    "        arr_df = pd.DataFrame({u'proportion': arr_hist / np.sum(arr_hist), u'left': edges[:-1], u'right': edges[1:]})\n",
    "        \n",
    "        #格式化间隔\n",
    "        arr_df[u'f_proportion'] = [u'%0.5f' % proportion for proportion in arr_df[u'proportion']]\n",
    "        \n",
    "        #格式化间隔\n",
    "        arr_df[u'f_interval'] = [u'%d to %d minutes' % (left, right) for left, right in zip(arr_df[u'left'], arr_df[u'right'])]\n",
    "        \n",
    "        #为标签指定运营商\n",
    "        arr_df[u'name'] = carrier_name\n",
    "        \n",
    "        #不同颜色的运营商\n",
    "        arr_df[u'color'] = C"
   ]
  }
 ],
 "metadata": {
  "kernelspec": {
   "display_name": "Python 3",
   "language": "python",
   "name": "python3"
  },
  "language_info": {
   "codemirror_mode": {
    "name": "ipython",
    "version": 3
   },
   "file_extension": ".py",
   "mimetype": "text/x-python",
   "name": "python",
   "nbconvert_exporter": "python",
   "pygments_lexer": "ipython3",
   "version": "3.6.5"
  }
 },
 "nbformat": 4,
 "nbformat_minor": 2
}
