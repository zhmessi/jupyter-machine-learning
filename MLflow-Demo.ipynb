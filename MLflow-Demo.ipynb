{
 "cells": [
  {
   "cell_type": "code",
   "execution_count": 5,
   "metadata": {},
   "outputs": [],
   "source": [
    "import os\n",
    "from mlflow import log_metric, log_param, log_artifact\n",
    "\n",
    "if __name__ == \"__main__\":\n",
    "    log_param(\"paraml\", 5)\n",
    "    \n",
    "    log_metric(\"foo\", 1)\n",
    "    log_metric(\"foo\", 2)\n",
    "    log_metric(\"foo\", 3)\n",
    "    \n",
    "    with open(\"output.txt\", \"w\") as f:\n",
    "        f.write(\"Hello world!\")\n",
    "    log_artifact(\"output.txt\")"
   ]
  },
  {
   "cell_type": "code",
   "execution_count": 4,
   "metadata": {},
   "outputs": [],
   "source": [
    "# You run an MLflow tracking server using mlflow server. An example configuration for a server is:\n",
    "# mlflow server --file-store /home/messi/notebook/persistent-disk --default-artifact-root s3://my-mlflow-bucket --host 192.168.12.61"
   ]
  },
  {
   "cell_type": "code",
   "execution_count": null,
   "metadata": {},
   "outputs": [],
   "source": [
    "# https://mlflow.org/docs/latest/rest-api.html"
   ]
  }
 ],
 "metadata": {
  "kernelspec": {
   "display_name": "Python 3",
   "language": "python",
   "name": "python3"
  },
  "language_info": {
   "codemirror_mode": {
    "name": "ipython",
    "version": 3
   },
   "file_extension": ".py",
   "mimetype": "text/x-python",
   "name": "python",
   "nbconvert_exporter": "python",
   "pygments_lexer": "ipython3",
   "version": "3.6.5"
  }
 },
 "nbformat": 4,
 "nbformat_minor": 2
}
